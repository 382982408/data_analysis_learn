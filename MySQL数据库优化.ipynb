{
 "cells": [
  {
   "cell_type": "markdown",
   "metadata": {},
   "source": [
    "## 常见的优化有以下几个方面：\n",
    "* SQL及索引\n",
    "* 数据库表结构\n",
    "* 系统配置\n",
    "* 硬件\n",
    "<br/>\n",
    "上面这些越来越成本高，但是优化效果越来越差。"
   ]
  },
  {
   "cell_type": "markdown",
   "metadata": {},
   "source": [
    "### 如何发现有问题的SQL？\n",
    "使用MYSQL慢查询日志对有效率问题的SQL进行监控：\n",
    "* `show variables like 'slow_query_log'`\n",
    "* `set global slow_query_log_file='/home/mysql/sql_log/mysql-slow.log'`这个是指定了慢查询的日志的位置在哪里。\n",
    "* `set global log_queries_not_using_indexs=on;`指定是否把没有使用索引的SQL记录到慢查询日志中，通常是需要的。\n",
    "* `set global long_query_time=1`指定把大于多少秒的SQL记录到慢查询日志中。"
   ]
  },
  {
   "cell_type": "markdown",
   "metadata": {},
   "source": [
    "#### 慢查询日志包含的内容\n",
    "* 执行SQL的主机信息:# User@Host:root[root]@localhost[]\n",
    "* SQL的执行信息: # Query_time:0.00024 Lock_time:0.000000 Rows_sent:0 Rows_examined:0\n",
    "* SQL执行时间: SET timestamp=1408275856;\n",
    "* SQL的内容: select CONCAT();"
   ]
  },
  {
   "cell_type": "markdown",
   "metadata": {},
   "source": [
    "#### 慢查日志的分析工具\n",
    "* mysqldumpslow(MySQL官方的，会随着MySQL自动安装到我们的服务器中， -h来显示说明)"
   ]
  },
  {
   "cell_type": "code",
   "execution_count": null,
   "metadata": {},
   "outputs": [],
   "source": []
  }
 ],
 "metadata": {
  "kernelspec": {
   "display_name": "Python 3",
   "language": "python",
   "name": "python3"
  },
  "language_info": {
   "codemirror_mode": {
    "name": "ipython",
    "version": 3
   },
   "file_extension": ".py",
   "mimetype": "text/x-python",
   "name": "python",
   "nbconvert_exporter": "python",
   "pygments_lexer": "ipython3",
   "version": "3.6.6"
  }
 },
 "nbformat": 4,
 "nbformat_minor": 2
}
