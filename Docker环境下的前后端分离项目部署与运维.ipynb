{
 "cells": [
  {
   "cell_type": "markdown",
   "metadata": {},
   "source": [
    "## 1. 开发环境要求\n",
    "1.1 最低硬件要求\n",
    "    1.1.1 CPU：英特尔酷睿i3；\n",
    "    1.1.2 内存：8GB；\n",
    "    1.1.3 硬盘：50GB；\n",
    "1.2 软件环境\n",
    "    1.2.1 Wmware虚拟机(CentOS)\n",
    "    1.2.2 Docker虚拟机"
   ]
  },
  {
   "cell_type": "code",
   "execution_count": null,
   "metadata": {},
   "outputs": [],
   "source": []
  }
 ],
 "metadata": {
  "kernelspec": {
   "display_name": "Python 3",
   "language": "python",
   "name": "python3"
  },
  "language_info": {
   "codemirror_mode": {
    "name": "ipython",
    "version": 3
   },
   "file_extension": ".py",
   "mimetype": "text/x-python",
   "name": "python",
   "nbconvert_exporter": "python",
   "pygments_lexer": "ipython3",
   "version": "3.6.6"
  }
 },
 "nbformat": 4,
 "nbformat_minor": 2
}
