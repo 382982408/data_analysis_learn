{
 "cells": [
  {
   "cell_type": "markdown",
   "metadata": {},
   "source": [
    "## 1 开发环境要求\n",
    "1.1 最低硬件要求<br/>\n",
    "    1.1.1 CPU：英特尔酷睿i3；<br/>\n",
    "    1.1.2 内存：8GB；<br/>\n",
    "    1.1.3 硬盘：50GB；<br/>\n",
    "1.2 软件环境<br/>\n",
    "    1.2.1 Vmware虚拟机(CentOS)(在创建的时候，在处理器的设置中，要勾选`虚拟化Intek VT-x/EPT或AMD-V/RVI(V)`。如果想要让机器被局域网的其他内容访问到，需要在`网络适配器`的设置中，选择`桥接模式`,并且勾选`复制物理网络连接状态`。)<br/>\n",
    "        1.2.1.1 在安装CentOS系统的过程中，在系统选项中，除了要选择`安装位置`以外还要配置`网络和主机名`，要不然会出现连不上网的情况。并且在`软件选择方面`最好选择**最小安装**，这样不用图形界面，但是稳定。<br/>\n",
    "        1.2.1.2 在网卡的设置中（也就是上面），一定要把`以太网`的选项打开。\n",
    "    1.2.2 Docker虚拟机<br/>\n",
    "    1.2.3 JDK、MySQL、Redis、Nginx、Node.js。<br/>"
   ]
  },
  {
   "cell_type": "code",
   "execution_count": null,
   "metadata": {},
   "outputs": [],
   "source": []
  }
 ],
 "metadata": {
  "kernelspec": {
   "display_name": "Python 3",
   "language": "python",
   "name": "python3"
  },
  "language_info": {
   "codemirror_mode": {
    "name": "ipython",
    "version": 3
   },
   "file_extension": ".py",
   "mimetype": "text/x-python",
   "name": "python",
   "nbconvert_exporter": "python",
   "pygments_lexer": "ipython3",
   "version": "3.6.6"
  }
 },
 "nbformat": 4,
 "nbformat_minor": 2
}
