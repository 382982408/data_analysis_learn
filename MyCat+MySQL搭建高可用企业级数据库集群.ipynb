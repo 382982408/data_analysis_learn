{
 "cells": [
  {
   "cell_type": "markdown",
   "metadata": {},
   "source": [
    "背景:MyCat是基于阿里的Cobar开发。基于Java，并且完全开源。"
   ]
  },
  {
   "cell_type": "markdown",
   "metadata": {},
   "source": [
    "课程的环境参数:\n",
    "* CentOS\n",
    "* MyCAT1.6.5\n",
    "* JDK-1.7\n",
    "* MYSQL5.7"
   ]
  }
 ],
 "metadata": {
  "kernelspec": {
   "display_name": "Python 3",
   "language": "python",
   "name": "python3"
  },
  "language_info": {
   "codemirror_mode": {
    "name": "ipython",
    "version": 3
   },
   "file_extension": ".py",
   "mimetype": "text/x-python",
   "name": "python",
   "nbconvert_exporter": "python",
   "pygments_lexer": "ipython3",
   "version": "3.6.5"
  }
 },
 "nbformat": 4,
 "nbformat_minor": 2
}
