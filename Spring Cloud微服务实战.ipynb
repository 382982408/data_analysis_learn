{
 "cells": [
  {
   "cell_type": "markdown",
   "metadata": {},
   "source": [
    "## 什么是微服务\n",
    "1. 一系列微小的服务共同组成。\n",
    "2. 跑在自己的进程里。\n",
    "3. 每个服务为独立的业务开发。\n",
    "4. 独立部署。\n",
    "5. 分布式的管理。\n",
    "\n",
    "## 什么是分布式\n",
    "> 旨在支持应用程序和服务的 开发，可以利用物理架构由**多个自治的处理元素**，**不共享内存**，但**通过**网络发送**消息**合作。   \n",
    "> ----Leslie Lamport\n",
    "\n",
    "## 微服务架构的基础框架/组件\n",
    "* 服务注册发现\n",
    "* 服务网关(Service Gateway)\n",
    "* 后端通用服务(也称中间层服务Middle Tier Service)\n",
    "* 前端服务(也称边缘服务Edge Service)\n",
    "\n",
    "## 引入微服务后项目的变化\n",
    "![微服务变化](images/微服务架构变化.png)\n",
    "\n",
    "## 两大“配方”\n",
    "### 阿里系：\n",
    "* Dubbo\n",
    "* Zookeeper\n",
    "* SpringMVC or SpringBoot\n",
    "* 。。。\n",
    "\n",
    "### SpringClound\n",
    "* Spring Clound Netflix Eureka\n",
    "* SpringBoot\n",
    "* 。。。\n",
    "\n",
    "## Spring Cloud是什么？\n",
    "* Spring Cloud是一个开发工具集，含了多个子项目\n",
    "    * 利用Spring Boot的开发便利；\n",
    "    * 主要是基于对Netflix开源组件的进一步封装；\n",
    "* Spring Cloud简化了分布式开发。\n",
    "* 掌握如何使用。更要理解分布式架构的特点。\n",
    "\n",
    "# 第三章 服务注册与发现\n",
    "## SpringCloud Eureka\n",
    "* 基于Netflix Eureka做了二次封装\n",
    "* 两个组件组成：\n",
    "    * Eureka Server(注册中心)\n",
    "    * Eureka Client(服务注册)"
   ]
  },
  {
   "cell_type": "code",
   "execution_count": null,
   "metadata": {},
   "outputs": [],
   "source": []
  }
 ],
 "metadata": {
  "kernelspec": {
   "display_name": "Python 3",
   "language": "python",
   "name": "python3"
  },
  "language_info": {
   "codemirror_mode": {
    "name": "ipython",
    "version": 3
   },
   "file_extension": ".py",
   "mimetype": "text/x-python",
   "name": "python",
   "nbconvert_exporter": "python",
   "pygments_lexer": "ipython3",
   "version": "3.6.7"
  }
 },
 "nbformat": 4,
 "nbformat_minor": 2
}
